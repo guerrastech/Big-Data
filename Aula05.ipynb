 
ID	corredor_armazem	modo_envio	numero_chamadas_cliente	avaliacao_cliente	custo_produto	compras_anteriores	prioridade_produto	genero	desconto	peso_gramas	entregue_no_prazo
0	1	D	Aviao	4	2	177	3	baixa	F	44	1233	1
1	2	F	Aviao	4	5	216	2	baixa	M	59	3088	1
2	3	A	Aviao	2	2	183	4	baixa	M	48	3374	1
3	4	B	Aviao	3	3	176	4	media	M	10	1177	1
4	5	C	Aviao	2	2	184	3	media	F	46	2484	1
...	...	...	...	...	...	...	...	...	...	...	...	...
10995	10996	B	Navio	4	1	232	5	media	F	6	1247	0
10996	10997	C	Navio	5	4	242	5	baixa	F	4	1155	0
10997	10998	F	Navio	5	2	223	6	media	M	2	1210	0
10998	10999	D	Navio	2	5	155	5	baixa	F	6	1639	0
10999	11000	C	Navio	4	2	255	5	baixa	F	6	1739	0
11000 rows × 12 columns

0        Aviao
1        Aviao
2        Aviao
3        Aviao
4        Aviao
         ...  
10995    Navio
10996    Navio
10997    Navio
10998    Navio
10999    Navio
Name: modo_envio, Length: 11000, dtype: object
modo_envio
Navio       7463
Aviao       1777
Caminhao    1760
Name: count, dtype: int64
<bound method DataFrame.info of           ID corredor_armazem modo_envio  numero_chamadas_cliente  \
0          1                D      Aviao                        4   
1          2                F      Aviao                        4   
2          3                A      Aviao                        2   
3          4                B      Aviao                        3   
4          5                C      Aviao                        2   
...      ...              ...        ...                      ...   
10995  10996                B      Navio                        4   
10996  10997                C      Navio                        5   
10997  10998                F      Navio                        5   
10998  10999                D      Navio                        2   
10999  11000                C      Navio                        4   

       avaliacao_cliente  custo_produto  compras_anteriores  \
0                      2            177                   3   
1                      5            216                   2   
2                      2            183                   4   
3                      3            176                   4   
4                      2            184                   3   
...                  ...            ...                 ...   
10995                  1            232                   5   
10996                  4            242                   5   
10997                  2            223                   6   
10998                  5            155                   5   
10999                  2            255                   5   
...
10997              media      M         2         1210                  0  
10998              baixa      F         6         1639                  0  
10999              baixa      F         6         1739                  0  

[11000 rows x 12 columns]>
Output is truncated. View as a scrollable element or open in a text editor. Adjust cell output settings...
<bound method Series.unique of 0        2
1        5
2        2
3        3
4        2
        ..
10995    1
10996    4
10997    2
10998    5
10999    2
Name: avaliacao_cliente, Length: 11000, dtype: int64>
numero_chamadas_cliente	custo_produto	compras_anteriores	desconto	peso_gramas
count	11000.000000	11000.000000	11000.000000	11000.000000	11000.000000
mean	4.054455	210.200909	3.567727	13.372545	3633.844455
std	1.141438	48.062985	1.522852	16.204943	1635.402722
min	2.000000	96.000000	2.000000	1.000000	1001.000000
25%	3.000000	169.000000	3.000000	4.000000	1839.000000
50%	4.000000	214.000000	3.000000	7.000000	4149.000000
75%	5.000000	251.000000	4.000000	10.000000	5050.000000
max	7.000000	310.000000	10.000000	65.000000	7846.000000
corredor_armazem
F    3666
D    1834
C    1834
A    1833
B    1833
Name: count, dtype: int64
---
modo_envio
Navio       7463
Aviao       1777
Caminhao    1760
Name: count, dtype: int64
---
avaliacao_cliente
3    2239
1    2235
4    2189
5    2171
2    2166
Name: count, dtype: int64
---
prioridade_produto
baixa    5298
media    4754
...
F    5546
M    5454
Name: count, dtype: int64
---
Output is truncated. View as a scrollable element or open in a text editor. Adjust cell output settings...
[corredor_armazem
 F    3666
 D    1834
 C    1834
 A    1833
 B    1833
 Name: count, dtype: int64,
 modo_envio
 Navio       7463
 Aviao       1777
 Caminhao    1760
 Name: count, dtype: int64,
 avaliacao_cliente
 3    2239
 1    2235
 4    2189
 5    2171
 2    2166
 Name: count, dtype: int64,
 prioridade_produto
 baixa    5298
 media    4754
 alta      948
 Name: count, dtype: int64,
 genero
 F    5546
 M    5454
 Name: count, dtype: int64]
[corredor_armazem
 F    3666
 D    1834
 C    1834
 A    1833
 B    1833
 Name: count, dtype: int64,
 modo_envio
 Navio       7463
 Aviao       1777
 Caminhao    1760
 Name: count, dtype: int64,
 avaliacao_cliente
 3    2239
 1    2235
 4    2189
 5    2171
 2    2166
 Name: count, dtype: int64,
 prioridade_produto
 baixa    5298
 media    4754
 alta      948
 Name: count, dtype: int64,
 genero
 F    5546
 M    5454
 Name: count, dtype: int64]
entregue_no_prazo
1                    6563
0                    4437
Name: count, dtype: int64
ID                         0
corredor_armazem           0
modo_envio                 0
numero_chamadas_cliente    0
avaliacao_cliente          0
custo_produto              0
compras_anteriores         0
prioridade_produto         0
genero                     0
desconto                   0
peso_gramas                0
entregue_no_prazo          0
dtype: int64
ID                         0
corredor_armazem           0
modo_envio                 0
numero_chamadas_cliente    0
avaliacao_cliente          0
custo_produto              0
compras_anteriores         0
prioridade_produto         0
genero                     0
desconto                   0
peso_gramas                0
entregue_no_prazo          0
dtype: int64
ID	corredor_armazem	modo_envio	numero_chamadas_cliente	avaliacao_cliente	custo_produto	compras_anteriores	prioridade_produto	genero	desconto	peso_gramas	entregue_no_prazo
0	1	D	Aviao	4	2	177	3	baixa	F	44	1233	1
1	2	F	Aviao	4	5	216	2	baixa	M	59	3088	1
2	3	A	Aviao	2	2	183	4	baixa	M	48	3374	1
3	4	B	Aviao	3	3	176	4	media	M	10	1177	1
4	5	C	Aviao	2	2	184	3	media	F	46	2484	1
...	...	...	...	...	...	...	...	...	...	...	...	...
10995	10996	B	Navio	4	1	232	5	media	F	6	1247	0
10996	10997	C	Navio	5	4	242	5	baixa	F	4	1155	0
10997	10998	F	Navio	5	2	223	6	media	M	2	1210	0
10998	10999	D	Navio	2	5	155	5	baixa	F	6	1639	0
10999	11000	C	Navio	4	2	255	5	baixa	F	6	1739	0
11000 rows × 12 columns

numero_chamadas_cliente	custo_produto	compras_anteriores	desconto	peso_gramas
count	11000.000000	11000.000000	11000.000000	11000.000000	11000.000000
mean	4.054455	210.200909	3.567727	13.372545	3633.844455
std	1.141438	48.062985	1.522852	16.204943	1635.402722
min	2.000000	96.000000	2.000000	1.000000	1001.000000
25%	3.000000	169.000000	3.000000	4.000000	1839.000000
50%	4.000000	214.000000	3.000000	7.000000	4149.000000
75%	5.000000	251.000000	4.000000	10.000000	5050.000000
max	7.000000	310.000000	10.000000	65.000000	7846.000000
-35.24228316623583
61.987374075326734
ID	corredor_armazem	modo_envio	numero_chamadas_cliente	avaliacao_cliente	custo_produto	compras_anteriores	prioridade_produto	genero	desconto	peso_gramas	entregue_no_prazo
36	37	D	Navio	3	5	137	4	alta	F	62	1477	1
60	61	D	Navio	3	1	221	3	baixa	F	64	2794	1
62	63	A	Navio	5	1	105	6	media	M	62	1292	1
111	112	B	Caminhao	4	2	239	3	baixa	F	65	3679	1
122	123	A	Caminhao	4	2	160	3	baixa	M	64	1714	1
...	...	...	...	...	...	...	...	...	...	...	...	...
3005	3006	F	Caminhao	5	2	159	3	media	F	63	1675	1
3017	3018	F	Aviao	4	1	235	2	alta	M	64	2107	1
3040	3041	C	Navio	3	2	149	3	media	F	64	1920	1
3068	3069	A	Navio	4	3	139	3	baixa	M	64	1814	1
3086	3087	A	Navio	3	2	223	2	baixa	M	64	3595	1
181 rows × 12 columns

ID	corredor_armazem	modo_envio	numero_chamadas_cliente	avaliacao_cliente	custo_produto	compras_anteriores	prioridade_produto	genero	desconto	peso_gramas	entregue_no_prazo
0	1	D	Aviao	4	2	177	3	baixa	F	44	1233	1
1	2	F	Aviao	4	5	216	2	baixa	M	59	3088	1
2	3	A	Aviao	2	2	183	4	baixa	M	48	3374	1
3	4	B	Aviao	3	3	176	4	media	M	10	1177	1
4	5	C	Aviao	2	2	184	3	media	F	46	2484	1
...	...	...	...	...	...	...	...	...	...	...	...	...
10995	10996	B	Navio	4	1	232	5	media	F	6	1247	0
10996	10997	C	Navio	5	4	242	5	baixa	F	4	1155	0
10997	10998	F	Navio	5	2	223	6	media	M	2	1210	0
10998	10999	D	Navio	2	5	155	5	baixa	F	6	1639	0
10999	11000	C	Navio	4	2	255	5	baixa	F	6	1739	0
10819 rows × 12 columns

count    10819.000000
mean        12.536186
std         14.981972
min          1.000000
25%          4.000000
50%          7.000000
75%         10.000000
max         61.000000
Name: desconto, dtype: float64
